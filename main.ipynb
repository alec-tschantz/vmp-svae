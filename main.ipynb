{
 "cells": [
  {
   "cell_type": "code",
   "execution_count": 1,
   "metadata": {},
   "outputs": [],
   "source": [
    "import torch\n",
    "from torch import nn\n",
    "from torchvision import datasets, transforms\n",
    "from torch.utils.data import TensorDataset, DataLoader, random_split\n",
    "\n",
    "import matplotlib.pyplot as plt\n",
    "\n",
    "from model import Model\n",
    "from plot import plot_clusters\n",
    "from utils import decay_lr, make_pinwheel_data"
   ]
  },
  {
   "cell_type": "code",
   "execution_count": 2,
   "metadata": {},
   "outputs": [],
   "source": [
    "batch_dim = 50\n",
    "num_clusters = 5 \n",
    "num_data_per_cluster = 300\n",
    "\n",
    "data, labels = make_pinwheel_data(0.3, 0.05, num_clusters, num_data_per_cluster, 0.25)\n",
    "dataset = TensorDataset(data, labels)\n",
    "\n",
    "train_dataset, test_dataset = random_split(dataset, [1400, 100])\n",
    "train_loader = DataLoader(train_dataset, batch_size=batch_dim)\n",
    "test_loader = DataLoader(test_dataset, batch_size=batch_dim)"
   ]
  },
  {
   "cell_type": "code",
   "execution_count": 3,
   "metadata": {},
   "outputs": [],
   "source": [
    "num_components = 20\n",
    "num_samples = 10 \n",
    "latent_dim = 4 \n",
    "obs_dim = 2\n",
    "\n",
    "encoder_layers = [(obs_dim, 50), (50, 50), (50, latent_dim )]\n",
    "decoder_layers = [(latent_dim, 50), (50, 50), (50, obs_dim)]\n",
    "model = Model(num_components, latent_dim, obs_dim, batch_dim, num_samples, encoder_layers, decoder_layers)\n",
    "theta = model.init_posterior(num_components, latent_dim)\n",
    "\n",
    "optimizer = torch.optim.Adam(model.parameters(), lr=0.01)"
   ]
  },
  {
   "cell_type": "code",
   "execution_count": 4,
   "metadata": {},
   "outputs": [
    {
     "ename": "NameError",
     "evalue": "name 'lrcvi' is not defined",
     "output_type": "error",
     "traceback": [
      "\u001b[0;31m---------------------------------------------------------------------------\u001b[0m",
      "\u001b[0;31mNameError\u001b[0m                                 Traceback (most recent call last)",
      "Cell \u001b[0;32mIn[4], line 13\u001b[0m\n\u001b[1;32m     10\u001b[0m elbo \u001b[38;5;241m=\u001b[39m model\u001b[38;5;241m.\u001b[39melbo(y, y_hat, theta, phi_tilde, x_k_samples, log_z_phi)\n\u001b[1;32m     12\u001b[0m \u001b[38;5;28;01mwith\u001b[39;00m torch\u001b[38;5;241m.\u001b[39mno_grad():\n\u001b[0;32m---> 13\u001b[0m     theta \u001b[38;5;241m=\u001b[39m model\u001b[38;5;241m.\u001b[39mm_step(theta, x_samples, torch\u001b[38;5;241m.\u001b[39mexp(log_z_phi), \u001b[43mlrcvi\u001b[49m)\n\u001b[1;32m     15\u001b[0m lr_cvi \u001b[38;5;241m=\u001b[39m decay_lr(lr_cvi, global_step)\n\u001b[1;32m     17\u001b[0m global_step \u001b[38;5;241m=\u001b[39m global_step \u001b[38;5;241m+\u001b[39m \u001b[38;5;241m1\u001b[39m\n",
      "\u001b[0;31mNameError\u001b[0m: name 'lrcvi' is not defined"
     ]
    }
   ],
   "source": [
    "num_epochs = 200\n",
    "lr_cvi = 0.1\n",
    "global_step = 1\n",
    "\n",
    "for epoch in range(num_epochs):\n",
    "\n",
    "    for (y, _) in train_loader:\n",
    "\n",
    "        (y_hat, x_k_samples, x_samples, log_z_phi, phi_tilde) = model(y)\n",
    "        elbo = model.elbo(y, y_hat, theta, phi_tilde, x_k_samples, log_z_phi)\n",
    "\n",
    "        with torch.no_grad():\n",
    "            theta = model.m_step(theta, x_samples, torch.exp(log_z_phi), lr_cvi)\n",
    "\n",
    "        lr_cvi = decay_lr(lr_cvi, global_step)\n",
    "\n",
    "        global_step = global_step + 1\n",
    "        elbo.backward()\n",
    "        optimizer.step()\n",
    "        model.zero_grad()\n",
    "\n",
    "    if epoch % 50 == 0:\n",
    "        print(f\"Epoch: {epoch} {elbo.item() / len(y):.6f}\")"
   ]
  },
  {
   "cell_type": "code",
   "execution_count": null,
   "metadata": {},
   "outputs": [
    {
     "data": {
      "image/png": "[encoded data removed]",
      "text/plain": [
       "<Figure size 600x400 with 1 Axes>"
      ]
     },
     "metadata": {},
     "output_type": "display_data"
    }
   ],
   "source": [
    "model.eval()\n",
    "test_data, _ = next(iter(test_loader))\n",
    "y_hat, _, _, log_z_phi, _ = model(test_data)\n",
    "\n",
    "B, D = test_data.shape\n",
    "cluster_idx = torch.max(log_z_phi, dim=1)[1].reshape(-1, 1)\n",
    "n_idx = torch.arange(0, B).reshape(-1, 1).to(torch.int64)\n",
    "s_idx = torch.zeros(B).reshape(-1, 1).to(torch.int64) \n",
    "\n",
    "y_mean = y_hat[0]\n",
    "y_mean = y_mean[[n_idx, cluster_idx, s_idx]].squeeze(1)\n",
    "\n",
    "y_mean = y_mean.detach().numpy()\n",
    "original_data = test_data.detach().numpy()\n",
    "cluster_idx = cluster_idx.detach().numpy()\n",
    "\n",
    "plot_clusters(test_data, y_mean, cluster_idx.squeeze())"
   ]
  }
 ],
 "metadata": {
  "kernelspec": {
   "display_name": "svae",
   "language": "python",
   "name": "python3"
  },
  "language_info": {
   "codemirror_mode": {
    "name": "ipython",
    "version": 3
   },
   "file_extension": ".py",
   "mimetype": "text/x-python",
   "name": "python",
   "nbconvert_exporter": "python",
   "pygments_lexer": "ipython3",
   "version": "3.12.5"
  }
 },
 "nbformat": 4,
 "nbformat_minor": 2
}
